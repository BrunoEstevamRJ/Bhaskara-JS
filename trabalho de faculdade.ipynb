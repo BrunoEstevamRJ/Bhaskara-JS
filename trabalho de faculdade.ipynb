{
  "nbformat": 4,
  "nbformat_minor": 0,
  "metadata": {
    "colab": {
      "name": "Untitled7.ipynb",
      "provenance": [],
      "authorship_tag": "ABX9TyP2VxzWXNrOoRWAQbT9W8q3",
      "include_colab_link": true
    },
    "kernelspec": {
      "name": "python3",
      "display_name": "Python 3"
    },
    "language_info": {
      "name": "python"
    }
  },
  "cells": [
    {
      "cell_type": "markdown",
      "metadata": {
        "id": "view-in-github",
        "colab_type": "text"
      },
      "source": [
        "<a href=\"https://colab.research.google.com/github/BrunoEstevamRJ/Bhaskara-JS/blob/main/trabalho%20de%20faculdade.ipynb\" target=\"_parent\"><img src=\"https://colab.research.google.com/assets/colab-badge.svg\" alt=\"Open In Colab\"/></a>"
      ]
    },
    {
      "cell_type": "markdown",
      "metadata": {
        "id": "pE--T9bUJNXO"
      },
      "source": [
        "***TCC da menina***"
      ]
    },
    {
      "cell_type": "markdown",
      "metadata": {
        "id": "nJqwasn_JTr0"
      },
      "source": [
        "1. Sabe-se que 𝑐𝑜𝑠𝑠𝑒𝑛𝑜(𝑥) = ∑\n",
        "(−1)\n",
        "𝑖\n",
        "(2𝑖)!\n",
        "𝑥\n",
        "∞ 2𝑖\n",
        "𝑖=0\n",
        ".\n",
        "Faça um programa que receba como entrada um valor x e retorne o valor aproximado do \n",
        "cosseno (x) até que o valor absoluto do i-ésimo termo da somatória incluído no resultado seja \n",
        "menor 0,001, considerando que i começa de 0. O resultado deve ser mostrado com 5 casas \n",
        "decimais."
      ]
    },
    {
      "cell_type": "code",
      "metadata": {
        "id": "7A67R5H0KCha"
      },
      "source": [
        "import numpy as np"
      ],
      "execution_count": null,
      "outputs": []
    },
    {
      "cell_type": "code",
      "metadata": {
        "colab": {
          "base_uri": "https://localhost:8080/"
        },
        "id": "OkcgxdqlJKuw",
        "outputId": "04a73c82-acc4-489f-a5eb-7300fc6ff724"
      },
      "source": [
        "x = int(input('Digite um número: '))\n",
        "y = str(np.cos(x))"
      ],
      "execution_count": null,
      "outputs": [
        {
          "output_type": "stream",
          "text": [
            "Digite um número: 1\n"
          ],
          "name": "stdout"
        }
      ]
    },
    {
      "cell_type": "code",
      "metadata": {
        "colab": {
          "base_uri": "https://localhost:8080/"
        },
        "id": "2ZoexEYWMqg2",
        "outputId": "6a0d973c-5ec4-4d4a-90c1-63ad4e122c31"
      },
      "source": [
        "print(y[0:7])"
      ],
      "execution_count": null,
      "outputs": [
        {
          "output_type": "stream",
          "text": [
            "0.54030\n"
          ],
          "name": "stdout"
        }
      ]
    },
    {
      "cell_type": "markdown",
      "metadata": {
        "id": "cjFpu4MZiA3m"
      },
      "source": [
        "2. As notas musicais estão associadas a frequências dominantes. Por exemplo, a frequência \n",
        "dominante do Lá central do piano é 440Hz. Se uma nota possui frequência f, a nota seguinte \n",
        "(um semitom acima) possui frequência 𝑓\n",
        "′ = 𝑓 × 2\n",
        "1/12, ou seja, as frequências das notas \n",
        "(incluindo os semitons) crescem numa escala exponencial.\n",
        "Faça um programa que calcule e mostre a frequência associada a cada tecla do piano padrão \n",
        "de 88 teclas, utilizando a frequência do Lá central e sabendo que esta nota é 49ª tecla deste \n",
        "piano. Os resultados devem ser apresentados com 2 casas decimais."
      ]
    },
    {
      "cell_type": "code",
      "metadata": {
        "colab": {
          "base_uri": "https://localhost:8080/"
        },
        "id": "UsAdwmQmiDwd",
        "outputId": "b88d40ce-df29-4022-8639-89672c5bfb5d"
      },
      "source": [
        "f = 440\n",
        "for i in range(0, 49):\n",
        "  valor = f * 2 ** (1/12)\n",
        "  print(valor)\n",
        "  f = valor\n"
      ],
      "execution_count": null,
      "outputs": [
        {
          "output_type": "stream",
          "text": [
            "466.1637615180899\n",
            "493.8833012561241\n",
            "523.2511306011974\n",
            "554.3652619537443\n",
            "587.3295358348153\n",
            "622.253967444162\n",
            "659.2551138257401\n",
            "698.456462866008\n",
            "739.988845423269\n",
            "783.9908719634989\n",
            "830.6093951598906\n",
            "880.0000000000003\n",
            "932.3275230361802\n",
            "987.7666025122486\n",
            "1046.502261202395\n",
            "1108.7305239074888\n",
            "1174.6590716696307\n",
            "1244.5079348883241\n",
            "1318.5102276514804\n",
            "1396.9129257320162\n",
            "1479.9776908465383\n",
            "1567.981743926998\n",
            "1661.2187903197814\n",
            "1760.000000000001\n",
            "1864.6550460723606\n",
            "1975.5332050244976\n",
            "2093.0045224047904\n",
            "2217.4610478149784\n",
            "2349.3181433392624\n",
            "2489.0158697766497\n",
            "2637.020455302962\n",
            "2793.825851464034\n",
            "2959.9553816930784\n",
            "3135.963487853998\n",
            "3322.4375806395647\n",
            "3520.000000000004\n",
            "3729.310092144724\n",
            "3951.066410048998\n",
            "4186.009044809583\n",
            "4434.92209562996\n",
            "4698.6362866785275\n",
            "4978.031739553302\n",
            "5274.040910605927\n",
            "5587.651702928071\n",
            "5919.91076338616\n",
            "6271.926975707999\n",
            "6644.875161279134\n",
            "7040.000000000013\n",
            "7458.6201842894525\n"
          ],
          "name": "stdout"
        }
      ]
    },
    {
      "cell_type": "markdown",
      "metadata": {
        "id": "7mOU1AUeOtAK"
      },
      "source": [
        "3. Faça um programa que receba como entrada um inteiro N e três listas de tamanho N: produto, \n",
        "estoque, pedido. A lista produto é formada por strings e as listas estoque e pedido são formadas \n",
        "por inteiros. Considere que os elementos numa mesma posição i das três listas estão \n",
        "relacionados. Seu programa deve retornar uma listagem na tela dos produtos que não têm \n",
        "estoque suficiente para o pedido e a respectiva quantidade que está faltando. Obs. Os \n",
        "elementos de cada lista devem ser digitados pelo usuário na mesma linha e separados por \n",
        "vírgula."
      ]
    },
    {
      "cell_type": "code",
      "metadata": {
        "colab": {
          "base_uri": "https://localhost:8080/"
        },
        "id": "9l5-_Lc3OvkY",
        "outputId": "c9b5f059-fc0d-43ef-da50-c88eb8988914"
      },
      "source": [
        "n = int(input('Digite um número: '))\n",
        "lista1 = []\n",
        "lista2 = []\n",
        "lista3 = []\n",
        "\n",
        "for i in range(n):\n",
        "    lista1.append(str(input(\"Produto: \")))\n",
        "\n",
        "for i in range(n):\n",
        "    lista2.append(int(input(\"Estoque de \" + lista1[i] + ' ')))\n",
        "\n",
        "for i in range(n):\n",
        "    lista3.append(int(input(\"Pedido: \")))"
      ],
      "execution_count": null,
      "outputs": [
        {
          "output_type": "stream",
          "text": [
            "Digite um número: 3\n",
            "Produto: banana\n",
            "Produto: tomate\n",
            "Produto: cenoura\n",
            "Estoque de banana 10\n",
            "Estoque de tomate 15\n",
            "Estoque de cenoura 25\n",
            "Pedido: 10\n",
            "Pedido: 25\n",
            "Pedido: 33\n"
          ],
          "name": "stdout"
        }
      ]
    },
    {
      "cell_type": "code",
      "metadata": {
        "colab": {
          "base_uri": "https://localhost:8080/"
        },
        "id": "Pbg3o01HVIv-",
        "outputId": "1712c709-485f-4443-cb68-dafc6d7c29ed"
      },
      "source": [
        "print(lista1)\n",
        "print()\n",
        "print(lista2)\n",
        "print()\n",
        "print(lista3)"
      ],
      "execution_count": null,
      "outputs": [
        {
          "output_type": "stream",
          "text": [
            "['banana', 'tomate', 'cenoura']\n",
            "\n",
            "[10, 15, 25]\n",
            "\n",
            "[10, 25, 33]\n"
          ],
          "name": "stdout"
        }
      ]
    },
    {
      "cell_type": "code",
      "metadata": {
        "colab": {
          "base_uri": "https://localhost:8080/"
        },
        "id": "NrVQk7A0V1Kw",
        "outputId": "1676640a-0edf-42f0-c442-6c8335f6b5ed"
      },
      "source": [
        "for i in range(n):\n",
        "  estoque = lista3[i]  - lista2[i]\n",
        "  if estoque > 0:\n",
        "    print(lista1[i], estoque)"
      ],
      "execution_count": null,
      "outputs": [
        {
          "output_type": "stream",
          "text": [
            "tomate 10\n",
            "cenoura 8\n"
          ],
          "name": "stdout"
        }
      ]
    },
    {
      "cell_type": "markdown",
      "metadata": {
        "id": "SGrNLKyNXrr0"
      },
      "source": [
        "4. Faça um programa que leia uma sequência de números reais até que o usuário entre com o \n",
        "número 0 (zero). Em seguida, liste a média entre os extremos, ou seja, média do primeiro com \n",
        "o último, o segundo com o penúltimo e assim por diante. Obs. O zero não deve ser incluído \n",
        "nas médias. "
      ]
    },
    {
      "cell_type": "code",
      "metadata": {
        "colab": {
          "base_uri": "https://localhost:8080/"
        },
        "id": "mdF8L8bHXtz_",
        "outputId": "711306d7-6b2f-4ddb-ea42-1fa7d267052e"
      },
      "source": [
        "listaReal = []\n",
        "n=1\n",
        "while n != 0:\n",
        "  n = float(input('Digite um número: '))\n",
        "  listaReal.append(n)\n",
        "\n",
        "print(listaReal)"
      ],
      "execution_count": null,
      "outputs": [
        {
          "output_type": "stream",
          "text": [
            "Digite um número: 2\n",
            "Digite um número: 1.5\n",
            "Digite um número: 55\n",
            "Digite um número: 20\n",
            "Digite um número: 0\n",
            "[2.0, 1.5, 55.0, 20.0, 0.0]\n"
          ],
          "name": "stdout"
        }
      ]
    },
    {
      "cell_type": "code",
      "metadata": {
        "colab": {
          "base_uri": "https://localhost:8080/"
        },
        "id": "M0lY7HGcdEex",
        "outputId": "c7a5849d-676e-4cb0-f8ee-f20e6c4d3e8a"
      },
      "source": [
        "del listaReal[-1]\n",
        "print(listaReal)"
      ],
      "execution_count": null,
      "outputs": [
        {
          "output_type": "stream",
          "text": [
            "[2.0, 1.5, 55.0, 20.0]\n"
          ],
          "name": "stdout"
        }
      ]
    },
    {
      "cell_type": "code",
      "metadata": {
        "id": "pnSVmnHrdY4-"
      },
      "source": [
        "listaMedia = []\n",
        "listaMedia.append((listaReal[-1] + listaReal[0]) / 2)\n",
        "del listaReal[0]\n",
        "del listaReal[-1]"
      ],
      "execution_count": null,
      "outputs": []
    },
    {
      "cell_type": "code",
      "metadata": {
        "id": "j4UWQmsdfY5k"
      },
      "source": [
        "listaMedia.append((listaReal[-1] + listaReal[0]) / 2)\n",
        "del listaReal[0]\n",
        "del listaReal[-1]"
      ],
      "execution_count": null,
      "outputs": []
    },
    {
      "cell_type": "code",
      "metadata": {
        "colab": {
          "base_uri": "https://localhost:8080/"
        },
        "id": "lGc_bPaVeBZ1",
        "outputId": "43d688d8-c33a-4f3a-e68c-9caf8d22e58e"
      },
      "source": [
        "print(listaMedia)"
      ],
      "execution_count": null,
      "outputs": [
        {
          "output_type": "stream",
          "text": [
            "[11.0, 28.25]\n"
          ],
          "name": "stdout"
        }
      ]
    },
    {
      "cell_type": "markdown",
      "metadata": {
        "id": "hoqN-weIft7K"
      },
      "source": [
        "5. Faça um programa para avaliar equações polinomiais. O usuário deverá digitar numa linha o \n",
        "grau do polinômio, e na linha seguinte os valores dos coeficientes em ordem decrescente e o \n",
        "valor da variável separados por espaço, lembrando que os coeficientes e valor da variável \n",
        "podem ser reais.\n",
        "Por exemplo, para o caso f(x) = 2x² - 3x + 7 com x = 5, temos"
      ]
    },
    {
      "cell_type": "code",
      "metadata": {
        "id": "5v8JYMuLfwtk"
      },
      "source": [
        "def delta(a,b,c):\n",
        "    delta = (b**2) - (4*a*c)\n",
        "    return delta\n",
        "\n",
        "def raizes(a,b,c,delta):\n",
        "    x1 = (-b+ delta**(1.0/2.0)) / (2.0*a)\n",
        "    x2 = (-b- delta**(1.0/2.0)) / (2.0*a)\n",
        "    return {\"x1\":x1,\"x2\":x2}"
      ],
      "execution_count": null,
      "outputs": []
    },
    {
      "cell_type": "code",
      "metadata": {
        "colab": {
          "base_uri": "https://localhost:8080/"
        },
        "id": "QQvtwRTjkHgc",
        "outputId": "b1d2e65d-8763-4fd0-c666-4e985624a525"
      },
      "source": [
        "a = float(input('Digite o valor de a: '))\n",
        "b = float(input('Digite o valor de b: '))\n",
        "c = float(input('Digite o valor de c: '))"
      ],
      "execution_count": null,
      "outputs": [
        {
          "output_type": "stream",
          "text": [
            "Digite o valor de a: 2\n",
            "Digite o valor de b: 15\n",
            "Digite o valor de c: 20\n"
          ],
          "name": "stdout"
        }
      ]
    },
    {
      "cell_type": "code",
      "metadata": {
        "colab": {
          "base_uri": "https://localhost:8080/"
        },
        "id": "bzbrleeukPgE",
        "outputId": "767aedb9-210c-4ded-b7e3-208bb5f1cc95"
      },
      "source": [
        "deltaResultado = delta(a,b,c)\n",
        "print(deltaResultado)"
      ],
      "execution_count": null,
      "outputs": [
        {
          "output_type": "stream",
          "text": [
            "65.0\n"
          ],
          "name": "stdout"
        }
      ]
    },
    {
      "cell_type": "code",
      "metadata": {
        "colab": {
          "base_uri": "https://localhost:8080/"
        },
        "id": "TF3A9MhnmmjW",
        "outputId": "a39b0a27-f691-4e85-fb2c-4507b10dd3f9"
      },
      "source": [
        "raizesResultado = (a,b,c,deltaResultado)\n",
        "print(raizesResultado)"
      ],
      "execution_count": null,
      "outputs": [
        {
          "output_type": "stream",
          "text": [
            "(2.0, 15.0, 20.0, 65.0)\n"
          ],
          "name": "stdout"
        }
      ]
    }
  ]
}